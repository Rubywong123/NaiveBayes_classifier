{
 "cells": [
  {
   "cell_type": "code",
   "execution_count": 2,
   "metadata": {},
   "outputs": [],
   "source": [
    "from utils import load_data, split_words_by_label, get_vocab_size, unique"
   ]
  },
  {
   "cell_type": "code",
   "execution_count": 3,
   "metadata": {},
   "outputs": [],
   "source": [
    "train_texts, train_labels = load_data('data/sst_train.csv')\n",
    "\n",
    "#divide the train dataset into 5 splits, train : validation = 4 : 1\n",
    "valid_texts, valid_labels = train_texts[-int(len(train_texts)/5):], train_labels[-int(len(train_texts)/5):]\n",
    "train_texts, train_labels = train_texts[:-int(len(train_texts)/5)], train_labels[:-int(len(train_texts)/5)]\n",
    "test_texts, test_labels = load_data('data/sst_test.csv')"
   ]
  },
  {
   "cell_type": "code",
   "execution_count": 5,
   "metadata": {},
   "outputs": [
    {
     "name": "stdout",
     "output_type": "stream",
     "text": [
      "16256\n"
     ]
    }
   ],
   "source": [
    "# Extract features from the texts\n",
    "    #Using hand-crafted Naive Bayes model to solve the problem.\n",
    "\n",
    "    #mapping (word, label) to conditional probability\n",
    "word_to_prob = {}\n",
    "label_set = [i for i in range(5)]\n",
    "total_labeled_words, label_portion = split_words_by_label(train_texts, train_labels, label_set)\n",
    "    #print(total_labeled_words)\n",
    "\n",
    "    #Question: How many words should the vocabulary contain?\n",
    "    #If only comes from train set, the prob of out-of-vocabulary is still quite high...\n",
    "vocab_size, _ = get_vocab_size(train_texts)\n",
    "print(vocab_size)"
   ]
  },
  {
   "cell_type": "code",
   "execution_count": 6,
   "metadata": {},
   "outputs": [
    {
     "name": "stdout",
     "output_type": "stream",
     "text": [
      "total words under label 0 :  3733\n",
      "occurred 1 or 2 times:  3090 , which account for 0.8277524778998124\n",
      "total words under label 1 :  6515\n",
      "occurred 1 or 2 times:  5206 , which account for 0.7990790483499616\n",
      "total words under label 2 :  5965\n",
      "occurred 1 or 2 times:  4898 , which account for 0.8211232187761944\n",
      "total words under label 3 :  8337\n",
      "occurred 1 or 2 times:  6346 , which account for 0.7611850785654312\n",
      "total words under label 4 :  5328\n",
      "occurred 1 or 2 times:  4203 , which account for 0.7888513513513513\n",
      "{0: 3090, 1: 5206, 2: 4898, 3: 6346, 4: 4203}\n"
     ]
    }
   ],
   "source": [
    "#print(total_labeled_words)\n",
    "sparse_words = {label: 0 for label in range(5)}\n",
    "for label in total_labeled_words:\n",
    "    print(\"total words under label {} : \".format(label), len(total_labeled_words[label]))\n",
    "    cnt = 0\n",
    "    for word in total_labeled_words[label]:\n",
    "        if total_labeled_words[label][word] < 3:\n",
    "            cnt += 1\n",
    "    sparse_words[label] = cnt\n",
    "    print(\"occurred 1 or 2 times: \", cnt, \", which account for {}\".format(cnt / len(total_labeled_words[label])))\n",
    "print(sparse_words)\n"
   ]
  },
  {
   "cell_type": "code",
   "execution_count": 7,
   "metadata": {},
   "outputs": [
    {
     "data": {
      "image/png": "[encoded data removed]",
      "text/plain": [
       "<Figure size 432x288 with 1 Axes>"
      ]
     },
     "metadata": {
      "needs_background": "light"
     },
     "output_type": "display_data"
    }
   ],
   "source": [
    "import matplotlib.pyplot as plt\n",
    "import numpy as np\n",
    "\n",
    "\n",
    "labels = ['0', '1', '2', '3', '4']\n",
    "men_means = sparse_words.values()\n",
    "women_means = [len(total_labeled_words[label]) for label in range(5)]\n",
    "\n",
    "x = np.arange(len(labels))  # the label locations\n",
    "width = 0.35  # the width of the bars\n",
    "\n",
    "fig, ax = plt.subplots()\n",
    "rects1 = ax.bar(x - width/2, men_means, width, label='sparse words')\n",
    "rects2 = ax.bar(x + width/2, women_means, width, label='total words')\n",
    "\n",
    "# Add some text for labels, title and custom x-axis tick labels, etc.\n",
    "ax.set_ylabel('Number')\n",
    "#ax.set_title('Numbers of sparse words in ')\n",
    "ax.set_xticks(x)\n",
    "ax.legend()\n",
    "\n",
    "ax.bar_label(rects1, padding=3)\n",
    "ax.bar_label(rects2, padding=3)\n",
    "\n",
    "fig.tight_layout()\n",
    "\n",
    "plt.show()"
   ]
  },
  {
   "cell_type": "code",
   "execution_count": 8,
   "metadata": {},
   "outputs": [
    {
     "name": "stderr",
     "output_type": "stream",
     "text": [
      "No handles with labels found to put in legend.\n"
     ]
    },
    {
     "data": {
      "image/png": "[encoded data removed]",
      "text/plain": [
       "<Figure size 432x288 with 1 Axes>"
      ]
     },
     "metadata": {
      "needs_background": "light"
     },
     "output_type": "display_data"
    }
   ],
   "source": [
    "labels = ['0', '1', '2', '3', '4']\n",
    "men_means = [label_portion[i] for i in sorted(label_portion)]\n",
    "\n",
    "x = np.arange(len(labels))  # the label locations\n",
    "width = 0.35  # the width of the bars\n",
    "\n",
    "fig, ax = plt.subplots()\n",
    "rects1 = ax.bar(x, men_means, width)\n",
    "\n",
    "# Add some text for labels, title and custom x-axis tick labels, etc.\n",
    "ax.set_ylabel('Num of samples')\n",
    "#ax.set_title('Numbers of sparse words ')\n",
    "ax.set_xticks(x)\n",
    "ax.legend()\n",
    "\n",
    "ax.bar_label(rects1, padding=3)\n",
    "\n",
    "fig.tight_layout()\n",
    "\n",
    "plt.show()"
   ]
  },
  {
   "cell_type": "code",
   "execution_count": 10,
   "metadata": {},
   "outputs": [
    {
     "name": "stdout",
     "output_type": "stream",
     "text": [
      ". 2068\n",
      ", 1247\n",
      "'s 599\n",
      "to 629\n",
      "and 1033\n",
      "is 573\n",
      "a 901\n",
      "the 1113\n",
      "that 470\n",
      "of 930\n",
      "but 313\n",
      "with 322\n",
      "it 440\n",
      "in 445\n",
      "film 331\n"
     ]
    }
   ],
   "source": [
    "for word in total_labeled_words[3]:\n",
    "    if total_labeled_words[3][word] > 300:\n",
    "        print(word, total_labeled_words[3][word])\n",
    "        "
   ]
  },
  {
   "cell_type": "code",
   "execution_count": null,
   "metadata": {},
   "outputs": [],
   "source": []
  }
 ],
 "metadata": {
  "interpreter": {
   "hash": "31f2aee4e71d21fbe5cf8b01ff0e069b9275f58929596ceb00d14d90e3e16cd6"
  },
  "kernelspec": {
   "display_name": "Python 3.8.9 64-bit",
   "language": "python",
   "name": "python3"
  },
  "language_info": {
   "codemirror_mode": {
    "name": "ipython",
    "version": 3
   },
   "file_extension": ".py",
   "mimetype": "text/x-python",
   "name": "python",
   "nbconvert_exporter": "python",
   "pygments_lexer": "ipython3",
   "version": "3.8.9"
  },
  "orig_nbformat": 4
 },
 "nbformat": 4,
 "nbformat_minor": 2
}
